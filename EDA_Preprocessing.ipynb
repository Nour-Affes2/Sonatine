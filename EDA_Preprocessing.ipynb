{
 "cells": [
  {
   "cell_type": "markdown",
   "id": "1119f26f",
   "metadata": {},
   "source": [
    "# Sonatina\n",
    "## Step 1 : Data Exploration and Pre-Processing"
   ]
  },
  {
   "cell_type": "code",
   "execution_count": null,
   "id": "2552ca35",
   "metadata": {},
   "outputs": [],
   "source": [
    "import requests\n",
    "import json\n",
    "\n",
    "url = \"https://api.openopus.org/work/dump.json\"\n",
    "\n",
    "response = requests.get(url)\n",
    "\n",
    "data = response.json()\n"
   ]
  },
  {
   "cell_type": "code",
   "execution_count": null,
   "id": "90ed2fc1",
   "metadata": {},
   "outputs": [],
   "source": []
  }
 ],
 "metadata": {
  "language_info": {
   "name": "python"
  }
 },
 "nbformat": 4,
 "nbformat_minor": 5
}
